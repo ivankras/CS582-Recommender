{
 "cells": [
  {
   "cell_type": "code",
   "execution_count": 1,
   "source": [
    "from nn import (\n",
    "    _get_predictor_nn,\n",
    "    predict_score_nn,\n",
    "    get_top_scores\n",
    ")\n",
    "\n",
    "# training_history, trained_model = _get_predictor_nn()"
   ],
   "outputs": [
    {
     "output_type": "stream",
     "name": "stderr",
     "text": [
      "2021-07-31 11:49:03.195018: W tensorflow/stream_executor/platform/default/dso_loader.cc:64] Could not load dynamic library 'libcudart.so.11.0'; dlerror: libcudart.so.11.0: cannot open shared object file: No such file or directory\n",
      "2021-07-31 11:49:03.195051: I tensorflow/stream_executor/cuda/cudart_stub.cc:29] Ignore above cudart dlerror if you do not have a GPU set up on your machine.\n"
     ]
    }
   ],
   "metadata": {}
  },
  {
   "cell_type": "code",
   "execution_count": 2,
   "source": [
    "# _, top_preds = predict_score_nn(user_ids=[1], movie_ids[3], trained_model=_get_predictor_nn(False, True)[1])\n",
    "top_preds = get_top_scores(user_id=3, k=10, train=False, small=True)\n",
    "# top_preds = get_top_scores(user_id=2, k=5, train=True, small=False) # E.T. > 14 hs per epoch (no GPU)"
   ],
   "outputs": [
    {
     "output_type": "stream",
     "name": "stderr",
     "text": [
      "2021-07-31 11:49:09.431134: W tensorflow/stream_executor/platform/default/dso_loader.cc:64] Could not load dynamic library 'libcuda.so.1'; dlerror: libcuda.so.1: cannot open shared object file: No such file or directory\n",
      "2021-07-31 11:49:09.431158: W tensorflow/stream_executor/cuda/cuda_driver.cc:326] failed call to cuInit: UNKNOWN ERROR (303)\n",
      "2021-07-31 11:49:09.431176: I tensorflow/stream_executor/cuda/cuda_diagnostics.cc:156] kernel driver does not appear to be running on this host (ivankras-ThinkPad-X1-Yoga-1st): /proc/driver/nvidia/version does not exist\n",
      "2021-07-31 11:49:09.431402: I tensorflow/core/platform/cpu_feature_guard.cc:142] This TensorFlow binary is optimized with oneAPI Deep Neural Network Library (oneDNN) to use the following CPU instructions in performance-critical operations:  AVX2 FMA\n",
      "To enable them in other operations, rebuild TensorFlow with the appropriate compiler flags.\n",
      "/home/ivankras/Desktop/CS582-Recommender/code/3-because-of-you/nn.py:143: DtypeWarning: Columns (10) have mixed types.Specify dtype option on import or set low_memory=False.\n",
      "  movies_ids = get_movies_ids()\n"
     ]
    },
    {
     "output_type": "stream",
     "name": "stdout",
     "text": [
      "All movies:  45463\n",
      "All movies:  45\n"
     ]
    },
    {
     "output_type": "stream",
     "name": "stderr",
     "text": [
      "2021-07-31 11:49:27.216788: I tensorflow/compiler/mlir/mlir_graph_optimization_pass.cc:176] None of the MLIR Optimization Passes are enabled (registered 2)\n",
      "2021-07-31 11:49:27.237613: I tensorflow/core/platform/profile_utils/cpu_utils.cc:114] CPU Frequency: 2799925000 Hz\n"
     ]
    }
   ],
   "metadata": {}
  },
  {
   "cell_type": "code",
   "execution_count": 3,
   "source": [
    "from eda import get_movies_from_ids\n",
    "\n",
    "# Discard scores and everything that's not the movieId\n",
    "top_movies = [movie for movie, _ in top_preds]\n",
    "\n",
    "# Get information for top movies\n",
    "top_movies = get_movies_from_ids(top_movies)\n",
    "top_movies['original_title']"
   ],
   "outputs": [
    {
     "output_type": "stream",
     "name": "stderr",
     "text": [
      "/tmp/ipykernel_37849/164083927.py:7: DtypeWarning: Columns (10) have mixed types.Specify dtype option on import or set low_memory=False.\n",
      "  top_movies = get_movies_from_ids(top_movies)\n"
     ]
    },
    {
     "output_type": "execute_result",
     "data": {
      "text/plain": [
       "289                                     Léon\n",
       "1225                      Back to the Future\n",
       "2429     Lock, Stock and Two Smoking Barrels\n",
       "2884                                   もののけ姫\n",
       "2966                     Todo sobre mi madre\n",
       "4748                            Donnie Darko\n",
       "5481                                千と千尋の神隠し\n",
       "5980                               Przypadek\n",
       "10585                            Match Point\n",
       "13812                                Primary\n",
       "Name: original_title, dtype: object"
      ]
     },
     "metadata": {},
     "execution_count": 3
    }
   ],
   "metadata": {}
  },
  {
   "cell_type": "markdown",
   "source": [
    "### Learning Curve"
   ],
   "metadata": {}
  },
  {
   "cell_type": "code",
   "execution_count": 4,
   "source": [
    "# import matplotlib.pyplot as plt\n",
    "\n",
    "# plt.plot(training_history.history[\"loss\"])\n",
    "# plt.plot(training_history.history[\"val_loss\"])\n",
    "# plt.title(\"model loss\")\n",
    "# plt.ylabel(\"loss\")\n",
    "# plt.xlabel(\"epoch\")\n",
    "# plt.legend([\"train\", \"test\"], loc=\"upper left\")\n",
    "# plt.show()"
   ],
   "outputs": [],
   "metadata": {}
  }
 ],
 "metadata": {
  "kernelspec": {
   "name": "python3",
   "display_name": "Python 3.8.10 64-bit ('venv': venv)"
  },
  "language_info": {
   "name": "python",
   "version": "3.8.10",
   "mimetype": "text/x-python",
   "codemirror_mode": {
    "name": "ipython",
    "version": 3
   },
   "pygments_lexer": "ipython3",
   "nbconvert_exporter": "python",
   "file_extension": ".py"
  },
  "interpreter": {
   "hash": "7bf4792db0c18a6478f547f52056b7b6d717bdce9616c9d1d340be62dfef3c39"
  }
 },
 "nbformat": 4,
 "nbformat_minor": 2
}