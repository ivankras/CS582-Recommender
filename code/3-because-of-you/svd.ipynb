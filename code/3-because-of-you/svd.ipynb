{
 "cells": [
  {
   "cell_type": "code",
   "execution_count": 1,
   "source": [
    "from eda import get_movies_from_ids\n",
    "from svd import (\n",
    "    predict_score_svd,\n",
    "    generate_model_svd,\n",
    "    get_all_predictions_svd,\n",
    "    get_top_k_predictions\n",
    ")\n",
    "\n",
    "svd = generate_model_svd()  # Execute if models/svd file does not exist"
   ],
   "outputs": [],
   "metadata": {}
  },
  {
   "cell_type": "code",
   "execution_count": 3,
   "source": [
    "predict_score_svd(3, 3, svd)"
   ],
   "outputs": [
    {
     "output_type": "execute_result",
     "data": {
      "text/plain": [
       "Prediction(uid=3, iid=3, r_ui=None, est=3.154562267959806, details={'was_impossible': False})"
      ]
     },
     "metadata": {},
     "execution_count": 3
    }
   ],
   "metadata": {}
  },
  {
   "cell_type": "code",
   "execution_count": 4,
   "source": [
    "predictions_user_2 = get_all_predictions_svd(2, small=True)\n",
    "# TODO: this table will most likely need to be cached (for each user consulting)"
   ],
   "outputs": [
    {
     "output_type": "stream",
     "name": "stderr",
     "text": [
      "/home/ivankras/Desktop/CS582-Recommender/code/3-because-of-you/svd.py:50: DtypeWarning: Columns (10) have mixed types.Specify dtype option on import or set low_memory=False.\n",
      "  movies_ids = get_movies_ids()\n"
     ]
    }
   ],
   "metadata": {}
  },
  {
   "cell_type": "code",
   "execution_count": 5,
   "source": [
    "top_preds = get_top_k_predictions(predictions_user_2, 10)\n",
    "\n",
    "# Discard scores and everything that's not the movieId\n",
    "top_preds = [int(pred.iid) for pred in top_preds]\n",
    "\n",
    "# Get information for top movies\n",
    "top_movies = get_movies_from_ids(top_preds)\n",
    "top_movies['original_title']"
   ],
   "outputs": [
    {
     "output_type": "stream",
     "name": "stderr",
     "text": [
      "/tmp/ipykernel_15410/3199034180.py:7: DtypeWarning: Columns (10) have mixed types.Specify dtype option on import or set low_memory=False.\n",
      "  top_movies = get_movies_from_ids(top_preds)\n"
     ]
    },
    {
     "output_type": "execute_result",
     "data": {
      "text/plain": [
       "334                                While You Were Sleeping\n",
       "415                                  Beverly Hills Cop III\n",
       "534                                   Sleepless in Seattle\n",
       "4020                              The Million Dollar Hotel\n",
       "4135                                              Scarface\n",
       "4843                   Le fabuleux destin d'Amélie Poulain\n",
       "6141                                        The Good Thief\n",
       "11922                                       License to Wed\n",
       "14332                                               Аэлита\n",
       "25980    Shriek If You Know What I Did Last Friday the ...\n",
       "Name: original_title, dtype: object"
      ]
     },
     "metadata": {},
     "execution_count": 5
    }
   ],
   "metadata": {}
  }
 ],
 "metadata": {
  "orig_nbformat": 4,
  "language_info": {
   "name": "python",
   "version": "3.8.10",
   "mimetype": "text/x-python",
   "codemirror_mode": {
    "name": "ipython",
    "version": 3
   },
   "pygments_lexer": "ipython3",
   "nbconvert_exporter": "python",
   "file_extension": ".py"
  },
  "kernelspec": {
   "name": "python3",
   "display_name": "Python 3.8.10 64-bit ('venv': venv)"
  },
  "interpreter": {
   "hash": "7bf4792db0c18a6478f547f52056b7b6d717bdce9616c9d1d340be62dfef3c39"
  }
 },
 "nbformat": 4,
 "nbformat_minor": 2
}