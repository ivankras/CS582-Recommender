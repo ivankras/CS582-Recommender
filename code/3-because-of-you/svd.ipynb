{
 "cells": [
  {
   "cell_type": "code",
   "execution_count": 2,
   "source": [
    "from eda import get_movies_from_ids\n",
    "from svd import (\n",
    "    generate_model_svd,\n",
    "    get_all_predictions_svd,\n",
    "    get_top_k_predictions\n",
    ")\n",
    "\n",
    "# generate_model_svd()  # Execute if models/svd file does not exist"
   ],
   "outputs": [
    {
     "output_type": "execute_result",
     "data": {
      "text/plain": [
       "<surprise.prediction_algorithms.matrix_factorization.SVD at 0x7fefa4003c70>"
      ]
     },
     "metadata": {},
     "execution_count": 2
    }
   ],
   "metadata": {}
  },
  {
   "cell_type": "code",
   "execution_count": null,
   "source": [
    "predictions_user_2 = get_all_predictions_svd(2, small=False)\n",
    "# TODO: this table will most likely need to be cached (for each user consulting)"
   ],
   "outputs": [],
   "metadata": {}
  },
  {
   "cell_type": "code",
   "execution_count": null,
   "source": [
    "top_preds = get_top_k_predictions(predictions_user_2, 10)\n",
    "\n",
    "# Discard scores and everything that's not the movieId\n",
    "top_preds = [int(pred.iid) for pred in top_preds]\n",
    "\n",
    "# Get information for top movies\n",
    "top_movies = get_movies_from_ids(top_preds)\n",
    "top_movies['original_title']"
   ],
   "outputs": [],
   "metadata": {}
  }
 ],
 "metadata": {
  "orig_nbformat": 4,
  "language_info": {
   "name": "python",
   "version": "3.8.10",
   "mimetype": "text/x-python",
   "codemirror_mode": {
    "name": "ipython",
    "version": 3
   },
   "pygments_lexer": "ipython3",
   "nbconvert_exporter": "python",
   "file_extension": ".py"
  },
  "kernelspec": {
   "name": "python3",
   "display_name": "Python 3.8.10 64-bit ('venv': venv)"
  },
  "interpreter": {
   "hash": "7bf4792db0c18a6478f547f52056b7b6d717bdce9616c9d1d340be62dfef3c39"
  }
 },
 "nbformat": 4,
 "nbformat_minor": 2
}