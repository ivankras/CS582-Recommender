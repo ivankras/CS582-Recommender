{
 "cells": [
  {
   "cell_type": "code",
   "execution_count": 1,
   "source": [
    "from svd import (\n",
    "    predict_score_svd,\n",
    "    get_all_predictions_svd,\n",
    "    get_top_k_predictions\n",
    ")"
   ],
   "outputs": [],
   "metadata": {}
  },
  {
   "cell_type": "code",
   "execution_count": 2,
   "source": [
    "# model = predict_score_svd(1, 3)\n",
    "# model.est"
   ],
   "outputs": [],
   "metadata": {}
  },
  {
   "cell_type": "code",
   "execution_count": 3,
   "source": [
    "predictions_user_1 = get_all_predictions_svd(1)\n",
    "# TODO: this table will most likely need to be cached (for each user consulting)"
   ],
   "outputs": [
    {
     "output_type": "stream",
     "name": "stderr",
     "text": [
      "/home/ivankras/Desktop/CS582-Recommender/code/3-because-of-you/svd.py:44: DtypeWarning: Columns (10) have mixed types.Specify dtype option on import or set low_memory=False.\n",
      "  movies_ids = get_movies_ids()\n"
     ]
    }
   ],
   "metadata": {}
  },
  {
   "cell_type": "code",
   "execution_count": 4,
   "source": [
    "get_top_k_predictions(predictions_user_1, 10)"
   ],
   "outputs": [
    {
     "output_type": "execute_result",
     "data": {
      "text/plain": [
       "[Prediction(uid=1, iid=858, r_ui=None, est=3.7140513416751455, details={'was_impossible': False}),\n",
       " Prediction(uid=1, iid=296, r_ui=None, est=3.6632746566008594, details={'was_impossible': False}),\n",
       " Prediction(uid=1, iid=922, r_ui=None, est=3.6474857239863736, details={'was_impossible': False}),\n",
       " Prediction(uid=1, iid=1252, r_ui=None, est=3.632526804861164, details={'was_impossible': False}),\n",
       " Prediction(uid=1, iid=2692, r_ui=None, est=3.617338015525454, details={'was_impossible': False}),\n",
       " Prediction(uid=1, iid=1939, r_ui=None, est=3.599459266664951, details={'was_impossible': False}),\n",
       " Prediction(uid=1, iid=923, r_ui=None, est=3.579059687132847, details={'was_impossible': False}),\n",
       " Prediction(uid=1, iid=905, r_ui=None, est=3.5758113444072874, details={'was_impossible': False}),\n",
       " Prediction(uid=1, iid=318, r_ui=None, est=3.5518516653749614, details={'was_impossible': False}),\n",
       " Prediction(uid=1, iid=898, r_ui=None, est=3.504401322505952, details={'was_impossible': False})]"
      ]
     },
     "metadata": {},
     "execution_count": 4
    }
   ],
   "metadata": {}
  }
 ],
 "metadata": {
  "orig_nbformat": 4,
  "language_info": {
   "name": "python",
   "version": "3.8.10",
   "mimetype": "text/x-python",
   "codemirror_mode": {
    "name": "ipython",
    "version": 3
   },
   "pygments_lexer": "ipython3",
   "nbconvert_exporter": "python",
   "file_extension": ".py"
  },
  "kernelspec": {
   "name": "python3",
   "display_name": "Python 3.8.10 64-bit ('venv': venv)"
  },
  "interpreter": {
   "hash": "7bf4792db0c18a6478f547f52056b7b6d717bdce9616c9d1d340be62dfef3c39"
  }
 },
 "nbformat": 4,
 "nbformat_minor": 2
}